{
 "cells": [
  {
   "cell_type": "code",
   "execution_count": 169,
   "id": "78c9b596-3cec-4d14-b056-98e6052e868b",
   "metadata": {},
   "outputs": [],
   "source": [
    "import tensorflow as tf\n",
    "import os"
   ]
  },
  {
   "cell_type": "code",
   "execution_count": 170,
   "id": "5678ee86-3f54-4cdd-a236-b3bfa3b95b50",
   "metadata": {},
   "outputs": [],
   "source": [
    "daily_sales_numbers=[21,22,-108,31,-1,32,34,31]"
   ]
  },
  {
   "cell_type": "code",
   "execution_count": 171,
   "id": "2c32400d-5590-4c9a-ace4-5947bcfa4b51",
   "metadata": {},
   "outputs": [
    {
     "data": {
      "text/plain": [
       "<_TensorSliceDataset element_spec=TensorSpec(shape=(), dtype=tf.int32, name=None)>"
      ]
     },
     "execution_count": 171,
     "metadata": {},
     "output_type": "execute_result"
    }
   ],
   "source": [
    "tf_dataset=tf.data.Dataset.from_tensor_slices(daily_sales_numbers)\n",
    "tf_dataset"
   ]
  },
  {
   "cell_type": "code",
   "execution_count": 172,
   "id": "3c159aed-af0c-4150-b1ab-224e8f133610",
   "metadata": {},
   "outputs": [
    {
     "name": "stdout",
     "output_type": "stream",
     "text": [
      "21\n",
      "22\n",
      "-108\n",
      "31\n",
      "-1\n",
      "32\n",
      "34\n",
      "31\n"
     ]
    }
   ],
   "source": [
    "for sales in tf_dataset:\n",
    "    print(sales.numpy())"
   ]
  },
  {
   "cell_type": "code",
   "execution_count": 173,
   "id": "84c42b8a-1863-460b-8065-8a2739aa9f6e",
   "metadata": {},
   "outputs": [
    {
     "name": "stdout",
     "output_type": "stream",
     "text": [
      "21\n",
      "22\n",
      "-108\n"
     ]
    }
   ],
   "source": [
    "for sales in tf_dataset.take(3):\n",
    "    print(sales.numpy())"
   ]
  },
  {
   "cell_type": "code",
   "execution_count": 174,
   "id": "4778659a-ab14-4df7-85e4-bfdad5456a0e",
   "metadata": {},
   "outputs": [
    {
     "name": "stdout",
     "output_type": "stream",
     "text": [
      "21\n",
      "22\n",
      "31\n",
      "32\n",
      "34\n",
      "31\n"
     ]
    }
   ],
   "source": [
    "tf_dataset=tf_dataset.filter(lambda x:x>0)\n",
    "for sales in tf_dataset:\n",
    "    print(sales.numpy())"
   ]
  },
  {
   "cell_type": "code",
   "execution_count": 175,
   "id": "516ccbd0-193a-42df-b5ae-7e734c69fc90",
   "metadata": {},
   "outputs": [
    {
     "name": "stdout",
     "output_type": "stream",
     "text": [
      "1512\n",
      "1584\n",
      "2232\n",
      "2304\n",
      "2448\n",
      "2232\n"
     ]
    }
   ],
   "source": [
    "tf_dataset=tf_dataset.map(lambda x:x*72)\n",
    "for sales in tf_dataset:\n",
    "    print(sales.numpy())"
   ]
  },
  {
   "cell_type": "code",
   "execution_count": 176,
   "id": "74cdc4a1-8545-4d81-9a8e-88c8ec4ae5af",
   "metadata": {},
   "outputs": [
    {
     "name": "stdout",
     "output_type": "stream",
     "text": [
      "1512\n",
      "1584\n",
      "2448\n",
      "2232\n",
      "2232\n",
      "2304\n"
     ]
    }
   ],
   "source": [
    "tf_dataset=tf_dataset.shuffle(3)\n",
    "for sales in tf_dataset:\n",
    "    print(sales.numpy())"
   ]
  },
  {
   "cell_type": "code",
   "execution_count": 177,
   "id": "f57f80d9-aa7f-41df-8ed4-2cd82d2817e1",
   "metadata": {},
   "outputs": [
    {
     "name": "stdout",
     "output_type": "stream",
     "text": [
      "[2232 2304]\n",
      "[1512 1584]\n",
      "[2232 2448]\n"
     ]
    }
   ],
   "source": [
    "for sales_batch in tf_dataset.batch(2):\n",
    "    print(sales_batch.numpy())"
   ]
  },
  {
   "cell_type": "code",
   "execution_count": 178,
   "id": "f43eb361-4b8e-4d60-8ab0-1ed2fafcfad7",
   "metadata": {},
   "outputs": [
    {
     "name": "stdout",
     "output_type": "stream",
     "text": [
      "[1584 2232]\n",
      "[1512 2448]\n",
      "[2304 2232]\n"
     ]
    }
   ],
   "source": [
    "tf_dataset=tf.data.Dataset.from_tensor_slices(daily_sales_numbers)\n",
    "tf_dataset=tf_dataset.filter(lambda x:x>0).map(lambda y:y*72).shuffle(2).batch(2)\n",
    "for sales in tf_dataset:\n",
    "    print(sales.numpy())"
   ]
  },
  {
   "cell_type": "code",
   "execution_count": 179,
   "id": "95b2a240-baa1-4f2a-bc04-6030306f061b",
   "metadata": {},
   "outputs": [
    {
     "name": "stdout",
     "output_type": "stream",
     "text": [
      "b'Documents\\\\Cat & Dog\\\\Cat\\\\001.jpg'\n",
      "b'Documents\\\\Cat & Dog\\\\Cat\\\\004.jpg'\n",
      "b'Documents\\\\Cat & Dog\\\\Cat\\\\006.jpg'\n",
      "b'Documents\\\\Cat & Dog\\\\Cat\\\\007.jpg'\n",
      "b'Documents\\\\Cat & Dog\\\\Cat\\\\009.jpg'\n"
     ]
    }
   ],
   "source": [
    "image_ds=tf.data.Dataset.list_files('Documents/Cat & Dog/*/*',shuffle=False)\n",
    "for file in image_ds.take(5):\n",
    "    print(file.numpy())"
   ]
  },
  {
   "cell_type": "code",
   "execution_count": 180,
   "id": "cdbc3e01-76d3-486b-a75f-69e9efeba7aa",
   "metadata": {},
   "outputs": [
    {
     "name": "stdout",
     "output_type": "stream",
     "text": [
      "b'Documents\\\\Cat & Dog\\\\Cat\\\\aug-12-20.jpg'\n",
      "b'Documents\\\\Cat & Dog\\\\Cat\\\\aug-143-04.jpg'\n",
      "b'Documents\\\\Cat & Dog\\\\Cat\\\\aug-156-09.jpg'\n",
      "b'Documents\\\\Cat & Dog\\\\Cat\\\\aug-13-20.jpg'\n",
      "b'Documents\\\\Cat & Dog\\\\Cat\\\\aug-117-55.jpg'\n"
     ]
    }
   ],
   "source": [
    "image_ds=image_ds.shuffle(200)\n",
    "for file in image_ds.take(5):\n",
    "    print(file.numpy())"
   ]
  },
  {
   "cell_type": "code",
   "execution_count": 181,
   "id": "b80b4038-e2d1-4569-b5c4-46146b82917a",
   "metadata": {},
   "outputs": [
    {
     "data": {
      "text/plain": [
       "712"
      ]
     },
     "execution_count": 181,
     "metadata": {},
     "output_type": "execute_result"
    }
   ],
   "source": [
    "image_count=len(image_ds)\n",
    "image_count"
   ]
  },
  {
   "cell_type": "code",
   "execution_count": 182,
   "id": "90bcd3d1-fedc-4840-91ae-995b8b35db2e",
   "metadata": {},
   "outputs": [],
   "source": [
    "train_size=int(image_count*0.8)\n",
    "train_ds=image_ds.take(train_size)\n",
    "test_ds=image_ds.skip(train_size)"
   ]
  },
  {
   "cell_type": "code",
   "execution_count": 183,
   "id": "46d172b6-064d-490a-b8bd-68fa2b6a7e93",
   "metadata": {},
   "outputs": [
    {
     "data": {
      "text/plain": [
       "569"
      ]
     },
     "execution_count": 183,
     "metadata": {},
     "output_type": "execute_result"
    }
   ],
   "source": [
    "len(train_ds)"
   ]
  },
  {
   "cell_type": "code",
   "execution_count": 184,
   "id": "7926d97f-fa09-45ad-88ae-64277a9fa008",
   "metadata": {},
   "outputs": [
    {
     "data": {
      "text/plain": [
       "143"
      ]
     },
     "execution_count": 184,
     "metadata": {},
     "output_type": "execute_result"
    }
   ],
   "source": [
    "len(test_ds)"
   ]
  },
  {
   "cell_type": "code",
   "execution_count": 185,
   "id": "280e04ef-4f49-4e00-a72e-33fd8d67c34c",
   "metadata": {},
   "outputs": [
    {
     "data": {
      "text/plain": [
       "['Documents', 'Cat & Dog', 'Cat', 'aug-19-025.jpg']"
      ]
     },
     "execution_count": 185,
     "metadata": {},
     "output_type": "execute_result"
    }
   ],
   "source": [
    "s='Documents\\\\Cat & Dog\\\\Cat\\\\aug-19-025.jpg'\n",
    "s.split('\\\\')"
   ]
  },
  {
   "cell_type": "code",
   "execution_count": 186,
   "id": "dee66bae-81d9-447e-a693-da33c07c68c7",
   "metadata": {},
   "outputs": [
    {
     "data": {
      "text/plain": [
       "'Cat'"
      ]
     },
     "execution_count": 186,
     "metadata": {},
     "output_type": "execute_result"
    }
   ],
   "source": [
    "s.split('\\\\')[-2]"
   ]
  },
  {
   "cell_type": "code",
   "execution_count": 187,
   "id": "1c1acfdf-d908-4836-b0f3-d0c9867f1e80",
   "metadata": {},
   "outputs": [],
   "source": [
    "def get_label(file_path):\n",
    "    return tf.strings.split(file_path,os.path.sep)[-2]"
   ]
  },
  {
   "cell_type": "code",
   "execution_count": 188,
   "id": "6019a82d-bf5e-4e4c-bac1-6509d66ccfcc",
   "metadata": {},
   "outputs": [],
   "source": [
    "def process_image(file_path):\n",
    "    label=get_label(file_path)\n",
    "    img=tf.io.read_file(file_path)\n",
    "    img=tf.image.decode_jpeg(img)\n",
    "    img=tf.image.resize(img,[128,128])\n",
    "    return img,label"
   ]
  },
  {
   "cell_type": "code",
   "execution_count": 189,
   "id": "173619a3-03f8-40c2-b67b-f3c16a598d3a",
   "metadata": {},
   "outputs": [
    {
     "name": "stdout",
     "output_type": "stream",
     "text": [
      "b'Documents\\\\Cat & Dog\\\\Cat\\\\aug-27-36.jpg'\n",
      "b'Documents\\\\Cat & Dog\\\\Cat\\\\aug-159-16.jpg'\n",
      "b'Documents\\\\Cat & Dog\\\\Cat\\\\aug-15-24.jpg'\n",
      "b'Documents\\\\Cat & Dog\\\\Cat\\\\aug-106-20.jpg'\n"
     ]
    }
   ],
   "source": [
    "for t in train_ds.take(4):\n",
    "    print(t.numpy())"
   ]
  },
  {
   "cell_type": "code",
   "execution_count": 190,
   "id": "6fc57f34-9d88-46b8-abea-8e56eb6544cc",
   "metadata": {},
   "outputs": [
    {
     "name": "stdout",
     "output_type": "stream",
     "text": [
      "Image:  tf.Tensor(\n",
      "[[[193.       172.       141.      ]\n",
      "  [193.07812  172.07812  141.07812 ]\n",
      "  [193.07812  172.07812  141.07812 ]\n",
      "  ...\n",
      "  [187.       166.       135.      ]\n",
      "  [187.       166.       135.      ]\n",
      "  [187.       166.       135.      ]]\n",
      "\n",
      " [[193.       172.       141.      ]\n",
      "  [193.       172.       141.      ]\n",
      "  [193.       172.       141.      ]\n",
      "  ...\n",
      "  [187.       166.       135.      ]\n",
      "  [187.10938  166.10938  135.10938 ]\n",
      "  [187.125    166.125    135.125   ]]\n",
      "\n",
      " [[193.       172.       141.      ]\n",
      "  [193.       172.       141.      ]\n",
      "  [193.       172.       141.      ]\n",
      "  ...\n",
      "  [187.       166.       135.      ]\n",
      "  [187.875    166.875    135.875   ]\n",
      "  [188.       167.       136.      ]]\n",
      "\n",
      " ...\n",
      "\n",
      " [[187.25     170.875    138.      ]\n",
      "  [186.125    169.75     136.875   ]\n",
      "  [186.78125  168.10938  136.      ]\n",
      "  ...\n",
      "  [152.625    134.5       94.71875 ]\n",
      "  [157.875    138.875     98.875   ]\n",
      "  [156.875    137.875     97.875   ]]\n",
      "\n",
      " [[189.       170.       138.      ]\n",
      "  [187.875    168.875    136.875   ]\n",
      "  [187.       168.       136.      ]\n",
      "  ...\n",
      "  [153.5      135.375     97.125   ]\n",
      "  [158.75     139.75      99.75    ]\n",
      "  [157.75     138.75      98.75    ]]\n",
      "\n",
      " [[189.       170.       140.      ]\n",
      "  [187.875    168.875    136.875   ]\n",
      "  [187.       168.       136.      ]\n",
      "  ...\n",
      "  [152.70312  134.70312   96.453125]\n",
      "  [156.20312  138.20312   98.203125]\n",
      "  [157.14062  138.14062   98.140625]]], shape=(128, 128, 3), dtype=float32)\n",
      "Label:  tf.Tensor(b'Cat', shape=(), dtype=string)\n",
      "Image:  tf.Tensor(\n",
      "[[[0.00000000e+00 4.74843750e+01 7.47500000e+01]\n",
      "  [0.00000000e+00 4.55000000e+01 7.87031250e+01]\n",
      "  [0.00000000e+00 4.37500000e+01 8.34062500e+01]\n",
      "  ...\n",
      "  [2.25328125e+02 2.26328125e+02 2.30328125e+02]\n",
      "  [2.25000000e+02 2.26000000e+02 2.30000000e+02]\n",
      "  [2.24609375e+02 2.25609375e+02 2.29609375e+02]]\n",
      "\n",
      " [[8.75000000e-01 4.00000000e+01 7.29687500e+01]\n",
      "  [1.09375000e-01 3.99843750e+01 7.66093750e+01]\n",
      "  [0.00000000e+00 4.02031250e+01 8.36093750e+01]\n",
      "  ...\n",
      "  [2.26125000e+02 2.27125000e+02 2.31125000e+02]\n",
      "  [2.26125000e+02 2.27125000e+02 2.31125000e+02]\n",
      "  [2.25375000e+02 2.26375000e+02 2.30375000e+02]]\n",
      "\n",
      " [[4.70312500e+00 4.05468750e+01 7.36250000e+01]\n",
      "  [1.64062500e+00 4.08593750e+01 8.00000000e+01]\n",
      "  [0.00000000e+00 4.18437500e+01 8.62343750e+01]\n",
      "  ...\n",
      "  [2.27765625e+02 2.28765625e+02 2.32765625e+02]\n",
      "  [2.27000000e+02 2.28000000e+02 2.32000000e+02]\n",
      "  [2.25921875e+02 2.26921875e+02 2.30921875e+02]]\n",
      "\n",
      " ...\n",
      "\n",
      " [[1.98750000e+02 1.88875000e+02 1.86500000e+02]\n",
      "  [1.96500000e+02 1.88625000e+02 1.85250000e+02]\n",
      "  [1.93875000e+02 1.86000000e+02 1.82625000e+02]\n",
      "  ...\n",
      "  [1.43265625e+02 6.45156250e+01 5.04218750e+01]\n",
      "  [1.55625000e+02 6.98750000e+01 5.25000000e+01]\n",
      "  [1.62437500e+02 6.84687500e+01 5.23437500e+01]]\n",
      "\n",
      " [[1.95250000e+02 1.86250000e+02 1.81250000e+02]\n",
      "  [1.93109375e+02 1.86109375e+02 1.80109375e+02]\n",
      "  [1.90484375e+02 1.83484375e+02 1.77484375e+02]\n",
      "  ...\n",
      "  [1.15375000e+02 4.78906250e+01 2.62500000e+01]\n",
      "  [1.21609375e+02 4.63593750e+01 2.37343750e+01]\n",
      "  [1.32359375e+02 4.99843750e+01 2.86093750e+01]]\n",
      "\n",
      " [[1.94765625e+02 1.85765625e+02 1.80765625e+02]\n",
      "  [1.92750000e+02 1.85750000e+02 1.79750000e+02]\n",
      "  [1.90125000e+02 1.83125000e+02 1.77125000e+02]\n",
      "  ...\n",
      "  [1.12328125e+02 4.71093750e+01 2.50625000e+01]\n",
      "  [1.13859375e+02 4.30625000e+01 2.03593750e+01]\n",
      "  [1.18906250e+02 4.26718750e+01 1.99062500e+01]]], shape=(128, 128, 3), dtype=float32)\n",
      "Label:  tf.Tensor(b'Cat', shape=(), dtype=string)\n",
      "Image:  tf.Tensor(\n",
      "[[[  0.390625   9.390625  16.390625]\n",
      "  [  0.         8.546875  15.546875]\n",
      "  [  0.         8.875     15.875   ]\n",
      "  ...\n",
      "  [ 54.453125  54.5       54.75    ]\n",
      "  [ 51.5       53.40625   56.828125]\n",
      "  [ 51.40625   54.875     59.640625]]\n",
      "\n",
      " [[  0.         8.875     15.875   ]\n",
      "  [  0.         8.        15.      ]\n",
      "  [  0.         8.875     15.875   ]\n",
      "  ...\n",
      "  [ 51.75      54.234375  53.734375]\n",
      "  [ 49.125     54.34375   57.125   ]\n",
      "  [ 48.703125  55.09375   60.296875]]\n",
      "\n",
      " [[  0.         8.        16.75    ]\n",
      "  [  0.         8.        16.75    ]\n",
      "  [  0.         8.875     17.625   ]\n",
      "  ...\n",
      "  [ 50.109375  57.625     59.53125 ]\n",
      "  [ 48.25      57.734375  59.859375]\n",
      "  [ 48.375     58.046875  60.40625 ]]\n",
      "\n",
      " ...\n",
      "\n",
      " [[  0.328125  10.5       14.75    ]\n",
      "  [  2.90625   13.65625   17.78125 ]\n",
      "  [  0.828125  11.578125  15.703125]\n",
      "  ...\n",
      "  [ 79.734375  46.609375  37.484375]\n",
      "  [ 91.875     57.875     46.125   ]\n",
      "  [102.28125   66.28125   52.28125 ]]\n",
      "\n",
      " [[  0.         8.421875  14.421875]\n",
      "  [  0.609375   9.609375  14.609375]\n",
      "  [  3.890625  12.890625  17.890625]\n",
      "  ...\n",
      "  [ 87.71875   57.109375  46.125   ]\n",
      "  [112.875     79.859375  65.484375]\n",
      "  [118.03125   82.03125   66.9375  ]]\n",
      "\n",
      " [[  0.         6.375     13.375   ]\n",
      "  [  0.         6.796875  13.796875]\n",
      "  [  0.984375   7.453125  15.328125]\n",
      "  ...\n",
      "  [109.515625  81.234375  65.46875 ]\n",
      "  [115.203125  84.078125  66.453125]\n",
      "  [116.1875    83.1875    64.46875 ]]], shape=(128, 128, 3), dtype=float32)\n",
      "Label:  tf.Tensor(b'Cat', shape=(), dtype=string)\n"
     ]
    }
   ],
   "source": [
    "train_ds=train_ds.map(process_image)\n",
    "for img,label in train_ds.take(3):\n",
    "    print('Image: ',img)\n",
    "    print('Label: ',label)"
   ]
  },
  {
   "cell_type": "code",
   "execution_count": 191,
   "id": "e434f7b4-425c-4195-91ba-82b0b1d0133b",
   "metadata": {},
   "outputs": [],
   "source": [
    "def scale(image,label):\n",
    "    return image/255,label"
   ]
  },
  {
   "cell_type": "code",
   "execution_count": 192,
   "id": "fb4c995d-6114-41d9-ac61-18104e6b7a59",
   "metadata": {},
   "outputs": [
    {
     "name": "stdout",
     "output_type": "stream",
     "text": [
      "****Image:  [0.6853376  0.69318074 0.6735729 ]\n",
      "****Label:  b'Cat'\n",
      "****Image:  [0.09013481 0.29013482 0.06905637]\n",
      "****Label:  b'Cat'\n",
      "****Image:  [0.         0.20704657 0.47953433]\n",
      "****Label:  b'Cat'\n",
      "****Image:  [0.6809436  0.6211397  0.32702205]\n",
      "****Label:  b'Cat'\n",
      "****Image:  [0.        0.2713695 0.5694087]\n",
      "****Label:  b'Cat'\n"
     ]
    }
   ],
   "source": [
    "train_ds=train_ds.map(scale)\n",
    "for image,label in train_ds.take(5):\n",
    "    print('****Image: ',image.numpy()[0][0])\n",
    "    print('****Label: ',label.numpy())"
   ]
  }
 ],
 "metadata": {
  "kernelspec": {
   "display_name": "Python 3 (ipykernel)",
   "language": "python",
   "name": "python3"
  },
  "language_info": {
   "codemirror_mode": {
    "name": "ipython",
    "version": 3
   },
   "file_extension": ".py",
   "mimetype": "text/x-python",
   "name": "python",
   "nbconvert_exporter": "python",
   "pygments_lexer": "ipython3",
   "version": "3.10.5"
  }
 },
 "nbformat": 4,
 "nbformat_minor": 5
}
